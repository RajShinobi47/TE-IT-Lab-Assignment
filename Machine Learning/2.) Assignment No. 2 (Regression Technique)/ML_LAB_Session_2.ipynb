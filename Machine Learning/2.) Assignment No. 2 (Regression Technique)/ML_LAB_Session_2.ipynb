{
 "cells": [
  {
   "cell_type": "code",
   "execution_count": 1,
   "id": "4b5086db",
   "metadata": {
    "id": "4b5086db"
   },
   "outputs": [],
   "source": [
    "import numpy as np"
   ]
  },
  {
   "cell_type": "code",
   "execution_count": 2,
   "id": "24da1f2e",
   "metadata": {
    "colab": {
     "base_uri": "https://localhost:8080/"
    },
    "id": "24da1f2e",
    "outputId": "36b8aa22-85b7-4b6f-cffd-b46e4d74f0e4"
   },
   "outputs": [
    {
     "name": "stdout",
     "output_type": "stream",
     "text": [
      "[1, 2, 3, 4, 5]\n"
     ]
    }
   ],
   "source": [
    "lst = [1,2,3,4,5]\n",
    "print(lst)"
   ]
  },
  {
   "cell_type": "code",
   "execution_count": 3,
   "id": "d431a670",
   "metadata": {
    "id": "d431a670"
   },
   "outputs": [],
   "source": [
    "arr = np.array([1,2,3,4,5])"
   ]
  },
  {
   "cell_type": "code",
   "execution_count": 4,
   "id": "04890ee8",
   "metadata": {
    "colab": {
     "base_uri": "https://localhost:8080/"
    },
    "id": "04890ee8",
    "outputId": "b7f331a6-1231-4d43-c3d3-e795441fc52b"
   },
   "outputs": [
    {
     "name": "stdout",
     "output_type": "stream",
     "text": [
      "[1 2 3 4 5]\n"
     ]
    },
    {
     "data": {
      "text/plain": [
       "array([1, 2, 3, 4, 5])"
      ]
     },
     "execution_count": 4,
     "metadata": {},
     "output_type": "execute_result"
    }
   ],
   "source": [
    "print(arr)\n",
    "arr\n"
   ]
  },
  {
   "cell_type": "code",
   "execution_count": 5,
   "id": "a7c862c3",
   "metadata": {
    "colab": {
     "base_uri": "https://localhost:8080/"
    },
    "id": "a7c862c3",
    "outputId": "a422e465-f3fd-4969-bf83-d4c02729d986"
   },
   "outputs": [
    {
     "name": "stdout",
     "output_type": "stream",
     "text": [
      "Array:  [1 2 3 4 5]\n",
      "Max of Array:  5\n",
      "Min of Array:  1\n",
      "Index of Maz Array Element:  4\n"
     ]
    }
   ],
   "source": [
    "print(\"Array: \", arr)\n",
    "\n",
    "max = np.max(arr)\n",
    "print(\"Max of Array: \", max)\n",
    "\n",
    "min = np.min(arr)\n",
    "print(\"Min of Array: \", min)\n",
    "\n",
    "idx = np.argmax(arr)\n",
    "print(\"Index of Maz Array Element: \", idx)\n"
   ]
  },
  {
   "cell_type": "code",
   "execution_count": 6,
   "id": "8a92591c",
   "metadata": {
    "colab": {
     "base_uri": "https://localhost:8080/"
    },
    "id": "8a92591c",
    "outputId": "a01907cf-eaa7-4444-a347-714bd76ab104"
   },
   "outputs": [
    {
     "name": "stdout",
     "output_type": "stream",
     "text": [
      "[2]\n"
     ]
    }
   ],
   "source": [
    "print(arr[1:2])\n"
   ]
  },
  {
   "cell_type": "code",
   "execution_count": 7,
   "id": "55b23ce0",
   "metadata": {
    "colab": {
     "base_uri": "https://localhost:8080/"
    },
    "id": "55b23ce0",
    "outputId": "235c87ac-a89b-452d-c485-3feb6621fd95"
   },
   "outputs": [
    {
     "name": "stdout",
     "output_type": "stream",
     "text": [
      "[[1 2 3]\n",
      " [4 5 6]\n",
      " [7 8 9]]\n"
     ]
    }
   ],
   "source": [
    "arr2d = np.array([[1,2,3],[4,5,6],[7,8,9]])\n",
    "print(arr2d)"
   ]
  },
  {
   "cell_type": "code",
   "execution_count": 8,
   "id": "aac5b0ca",
   "metadata": {
    "colab": {
     "base_uri": "https://localhost:8080/"
    },
    "id": "aac5b0ca",
    "outputId": "da44ac40-3970-4ada-e957-7d016f81d44b"
   },
   "outputs": [
    {
     "name": "stdout",
     "output_type": "stream",
     "text": [
      "2D Array : \n",
      " [[1 2 3]\n",
      " [4 5 6]\n",
      " [7 8 9]]\n",
      "\n",
      "Sliced Array:(from 0,0 to 2,2)\n",
      "  [[1 2]\n",
      " [4 5]]\n"
     ]
    }
   ],
   "source": [
    "print(\"2D Array : \\n\",arr2d)\n",
    "\n",
    "# Slicing in 2D Array, (min_row : max_row+1, min_col : max_col+1)\n",
    "# In this, in the first parameter, we have slice out the 2D or 1D array according to our need.\n",
    "\n",
    "# In below, example, If we want to slice out first 2 row elements and first 2 column elements then below slicing code will \n",
    "# be written as follows:\n",
    "print(\"\\nSliced Array:(from 0,0 to 2,2)\\n \",arr2d[0:2,0:2])"
   ]
  },
  {
   "cell_type": "code",
   "execution_count": 9,
   "id": "7c22ee06",
   "metadata": {
    "id": "7c22ee06"
   },
   "outputs": [],
   "source": [
    "# To slice from 1,1 to 2,2\n",
    "# print(arr2d[1:3, 1:3])\n",
    "\n",
    "# Extract all odd numbers from an array 1...10\n",
    "# Replace all odd numbers in an array with -1\n",
    "# Replace all odd numbers in an array with -1 without changing original array\n",
    "# Consider a 1D Array, convert that to the 2D array of 2 rows.\n",
    "# Stack the array a and b vertically (reshape function)\n",
    "# Stack the array a and b horizontally (reshape function)\n",
    "\n",
    "# Print the patter for ex, a = [1,2,3]\n",
    "# op: a = [1,1,1, 2,2,2, 3,3,3,\n",
    "#            1,2,3, 1,2,3, 1,2,3]\n",
    "# (repeat function)\n",
    "\n",
    "# (where function) -> for replacing "
   ]
  },
  {
   "cell_type": "code",
   "execution_count": 10,
   "id": "06fe5f5c",
   "metadata": {
    "colab": {
     "base_uri": "https://localhost:8080/"
    },
    "id": "06fe5f5c",
    "outputId": "d3dfcf53-3396-44a6-a277-6b7b84cb2638"
   },
   "outputs": [
    {
     "name": "stdout",
     "output_type": "stream",
     "text": [
      "[1 3 5 7 9]\n"
     ]
    }
   ],
   "source": [
    "# Extract all odd numbers from an array 1...10\n",
    "\n",
    "arr = np.array([1,2,3,4,5,6,7,8,9,10])\n",
    "\n",
    "# for i in arr:\n",
    "#     if(i%2 == 0):\n",
    "#         print(arr[i])\n",
    "\n",
    "# Instead of using for loop for taking out the odd numbers, we can directly check odd numbers\n",
    "# with condition and it will give the index that are true\n",
    "print(arr[arr%2 != 0])"
   ]
  },
  {
   "cell_type": "code",
   "execution_count": 11,
   "id": "10095e48",
   "metadata": {
    "colab": {
     "base_uri": "https://localhost:8080/"
    },
    "id": "10095e48",
    "outputId": "66348196-dcb9-427a-fa37-4e3338b8c4d0"
   },
   "outputs": [
    {
     "name": "stdout",
     "output_type": "stream",
     "text": [
      "[-1  2 -1  4 -1  6 -1  8 -1 10]\n"
     ]
    }
   ],
   "source": [
    "# Replace all odd numbers in an array with -1\n",
    "arr[arr%2 != 0] = -1\n",
    "print(arr)"
   ]
  },
  {
   "cell_type": "code",
   "execution_count": 12,
   "id": "e78b536c",
   "metadata": {
    "colab": {
     "base_uri": "https://localhost:8080/"
    },
    "id": "e78b536c",
    "outputId": "d0f70cd0-6c5a-4fe1-c11b-f113db5d709b"
   },
   "outputs": [
    {
     "name": "stdout",
     "output_type": "stream",
     "text": [
      "[1 3 5 7 9]\n"
     ]
    }
   ],
   "source": [
    "# Replace all odd numbers in an array with -1 without changing original array\n",
    "arr = np.array([1,2,3,4,5,6,7,8,9,10])\n",
    "arr2 = np.array(arr[arr%2 != 0])\n",
    "print(arr2)"
   ]
  },
  {
   "cell_type": "code",
   "execution_count": 13,
   "id": "4392e108",
   "metadata": {
    "colab": {
     "base_uri": "https://localhost:8080/"
    },
    "id": "4392e108",
    "outputId": "1f180f26-d685-47b9-ec8a-62ae1ad3f8a9"
   },
   "outputs": [
    {
     "name": "stdout",
     "output_type": "stream",
     "text": [
      "Array before reshaping :  [0 1 2 3 4 5 6 7 8 9]\n",
      "Array after reshaping : \n",
      " [[0 1 2 3 4]\n",
      " [5 6 7 8 9]]\n"
     ]
    }
   ],
   "source": [
    "# Consider a 1D Array, convert that to the 2D array of 2 rows.\n",
    "a = np.arange(10);\n",
    "print(\"Array before reshaping : \",a)\n",
    "a = a.reshape(2,5)\n",
    "print(\"Array after reshaping : \\n\", a)\n"
   ]
  },
  {
   "cell_type": "code",
   "execution_count": 14,
   "id": "f3b17d26",
   "metadata": {
    "id": "f3b17d26"
   },
   "outputs": [],
   "source": [
    "# Stack the array a and b vertically (reshape function)"
   ]
  },
  {
   "cell_type": "code",
   "execution_count": 15,
   "id": "350fa9cd",
   "metadata": {
    "id": "350fa9cd"
   },
   "outputs": [],
   "source": [
    "# Stack the array a and b horizontally (reshape function)"
   ]
  },
  {
   "cell_type": "code",
   "execution_count": 16,
   "id": "93288098",
   "metadata": {
    "id": "93288098"
   },
   "outputs": [],
   "source": [
    "# Print the patter for ex, a = [1,2,3]\n",
    "# op: a = [1,1,1, 2,2,2, 3,3,3,\n",
    "#            1,2,3, 1,2,3, 1,2,3]\n",
    "# (repeat function)"
   ]
  },
  {
   "cell_type": "markdown",
   "id": "iYbfTPtA4h7h",
   "metadata": {
    "id": "iYbfTPtA4h7h"
   },
   "source": [
    "ML Lab 3"
   ]
  },
  {
   "cell_type": "code",
   "execution_count": 17,
   "id": "68fb52af",
   "metadata": {
    "colab": {
     "base_uri": "https://localhost:8080/"
    },
    "id": "68fb52af",
    "outputId": "771084a7-53b7-4e48-fd42-d9c28b37245d"
   },
   "outputs": [
    {
     "name": "stdout",
     "output_type": "stream",
     "text": [
      "Series([], dtype: float64)\n",
      "0    r\n",
      "1    a\n",
      "2    j\n",
      "dtype: object\n"
     ]
    },
    {
     "name": "stderr",
     "output_type": "stream",
     "text": [
      "/home/mllab07/.local/lib/python3.6/site-packages/ipykernel_launcher.py:4: DeprecationWarning: The default dtype for empty Series will be 'object' instead of 'float64' in a future version. Specify a dtype explicitly to silence this warning.\n",
      "  after removing the cwd from sys.path.\n"
     ]
    }
   ],
   "source": [
    "import pandas as pd\n",
    "import numpy as np\n",
    "\n",
    "series = pd.Series()\n",
    "\n",
    "print(series)\n",
    "\n",
    "data = np.array(['r','a','j'])\n",
    "\n",
    "series = pd.Series(data)\n",
    "\n",
    "print(series)"
   ]
  },
  {
   "cell_type": "code",
   "execution_count": 18,
   "id": "s_Htp-PP5XAm",
   "metadata": {
    "colab": {
     "base_uri": "https://localhost:8080/"
    },
    "id": "s_Htp-PP5XAm",
    "outputId": "a9a639d6-d272-4d7f-df6f-130416bd2a8d"
   },
   "outputs": [
    {
     "name": "stdout",
     "output_type": "stream",
     "text": [
      "Empty DataFrame\n",
      "Columns: []\n",
      "Index: []\n",
      "       0\n",
      "0  Hello\n",
      "1     my\n",
      "2   name\n",
      "3     is\n",
      "4    Raj\n"
     ]
    }
   ],
   "source": [
    "df = pd.DataFrame()\n",
    "print(df)\n",
    "\n",
    "lst = ['Hello', 'my', 'name', 'is', 'Raj']\n",
    "\n",
    "df = pd.DataFrame(lst)\n",
    "print(df)"
   ]
  },
  {
   "cell_type": "code",
   "execution_count": 19,
   "id": "S3zqNFSQ6N1t",
   "metadata": {
    "colab": {
     "base_uri": "https://localhost:8080/"
    },
    "id": "S3zqNFSQ6N1t",
    "outputId": "43645e4b-f34b-4de3-9bd0-bf4df67d8a7e"
   },
   "outputs": [
    {
     "name": "stdout",
     "output_type": "stream",
     "text": [
      "0    [1, 2, 3]\n",
      "1    [4, 5, 6]\n",
      "2    [7, 8, 9]\n",
      "dtype: object\n",
      "a  d  g    [1, 2, 3]\n",
      "b  e  h    [4, 5, 6]\n",
      "c  f  i    [7, 8, 9]\n",
      "dtype: object\n"
     ]
    }
   ],
   "source": [
    "arr = [[1,2,3], [4,5,6], [7,8,9]]\n",
    "\n",
    "myVal = pd.Series(arr)\n",
    "\n",
    "print(myVal)\n",
    "\n",
    "myVal = pd.Series(arr, index = [[\"a\",\"b\",\"c\"], [\"d\",\"e\",\"f\"], [\"g\",\"h\",\"i\"]])\n",
    "\n",
    "print(myVal)"
   ]
  },
  {
   "cell_type": "code",
   "execution_count": 44,
   "id": "TWQHhTsUB_fw",
   "metadata": {
    "colab": {
     "base_uri": "https://localhost:8080/",
     "height": 289
    },
    "id": "TWQHhTsUB_fw",
    "outputId": "2569cb0c-65e9-4654-868d-0e390ce113fb"
   },
   "outputs": [],
   "source": [
    "# // Confusion Matrix\n",
    "\n",
    "actual = pd.Series([1 for _ in range(50)] + [0 for _ in range(50)], name = \"Actual\")\n",
    "predicted = pd.Series([1 for _ in range(45)] + [0 for _ in range(55)], name = \"Predicted\")"
   ]
  },
  {
   "cell_type": "code",
   "execution_count": 45,
   "id": "a0d88f95",
   "metadata": {},
   "outputs": [
    {
     "data": {
      "text/html": [
       "<div>\n",
       "<style scoped>\n",
       "    .dataframe tbody tr th:only-of-type {\n",
       "        vertical-align: middle;\n",
       "    }\n",
       "\n",
       "    .dataframe tbody tr th {\n",
       "        vertical-align: top;\n",
       "    }\n",
       "\n",
       "    .dataframe thead th {\n",
       "        text-align: right;\n",
       "    }\n",
       "</style>\n",
       "<table border=\"1\" class=\"dataframe\">\n",
       "  <thead>\n",
       "    <tr style=\"text-align: right;\">\n",
       "      <th>Predicted</th>\n",
       "      <th>0</th>\n",
       "      <th>1</th>\n",
       "    </tr>\n",
       "    <tr>\n",
       "      <th>Actual</th>\n",
       "      <th></th>\n",
       "      <th></th>\n",
       "    </tr>\n",
       "  </thead>\n",
       "  <tbody>\n",
       "    <tr>\n",
       "      <th>0</th>\n",
       "      <td>50</td>\n",
       "      <td>0</td>\n",
       "    </tr>\n",
       "    <tr>\n",
       "      <th>1</th>\n",
       "      <td>5</td>\n",
       "      <td>45</td>\n",
       "    </tr>\n",
       "  </tbody>\n",
       "</table>\n",
       "</div>"
      ],
      "text/plain": [
       "Predicted   0   1\n",
       "Actual           \n",
       "0          50   0\n",
       "1           5  45"
      ]
     },
     "execution_count": 45,
     "metadata": {},
     "output_type": "execute_result"
    }
   ],
   "source": [
    "graph = pd.crosstab(actual, predicted)\n",
    "graph"
   ]
  },
  {
   "cell_type": "code",
   "execution_count": 48,
   "id": "53a88d31",
   "metadata": {},
   "outputs": [
    {
     "name": "stdout",
     "output_type": "stream",
     "text": [
      "Precision :  1.0\n",
      "Recall :  0.9\n",
      "Accuracy :  0.95\n",
      "F1_Score :  0.9473684210526315\n"
     ]
    }
   ],
   "source": [
    "# Manual Calculations:\n",
    "\n",
    "TP = 45\n",
    "FN = 5\n",
    "FP = 0\n",
    "TN = 50\n",
    "\n",
    "# Precision: TP / (TP + FP)\n",
    "precision = TP / (TP + FP) \n",
    "# Recall: TP / (TP + FN)\n",
    "recall = TP / (TP + FN)\n",
    "# Accuracy: (TP + TN) / (TP + TN + FP + FN)\n",
    "accuracy= (TP + TN) / (TP + TN + FP + FN)\n",
    "# F1 - Score: 2 * TP / (2 * TP + FP + FN)\n",
    "f1_score = 2 * TP / (2 * TP + FP + FN)\n",
    "\n",
    "print(\"Precision : \", precision)\n",
    "print(\"Recall : \", recall)\n",
    "print(\"Accuracy : \", accuracy)\n",
    "print(\"F1_Score : \", f1_score)\n"
   ]
  },
  {
   "cell_type": "code",
   "execution_count": 52,
   "id": "a027baa5",
   "metadata": {},
   "outputs": [
    {
     "name": "stdout",
     "output_type": "stream",
     "text": [
      "              precision    recall  f1-score   support\n",
      "\n",
      "           0       0.91      1.00      0.95        50\n",
      "           1       1.00      0.90      0.95        50\n",
      "\n",
      "    accuracy                           0.95       100\n",
      "   macro avg       0.95      0.95      0.95       100\n",
      "weighted avg       0.95      0.95      0.95       100\n",
      "\n"
     ]
    }
   ],
   "source": [
    "from sklearn.metrics import classification_report\n",
    "\n",
    "\n",
    "cr = classification_report(actual, predicted)\n",
    "print(cr)"
   ]
  },
  {
   "cell_type": "code",
   "execution_count": null,
   "id": "3985cecb",
   "metadata": {},
   "outputs": [],
   "source": []
  },
  {
   "cell_type": "code",
   "execution_count": null,
   "id": "415b54c8",
   "metadata": {},
   "outputs": [],
   "source": []
  },
  {
   "cell_type": "code",
   "execution_count": null,
   "id": "f4e34e20",
   "metadata": {},
   "outputs": [],
   "source": []
  }
 ],
 "metadata": {
  "colab": {
   "collapsed_sections": [],
   "name": "ML_LAB_Session_2.ipynb",
   "provenance": []
  },
  "kernelspec": {
   "display_name": "Python 3",
   "language": "python",
   "name": "python3"
  },
  "language_info": {
   "codemirror_mode": {
    "name": "ipython",
    "version": 3
   },
   "file_extension": ".py",
   "mimetype": "text/x-python",
   "name": "python",
   "nbconvert_exporter": "python",
   "pygments_lexer": "ipython3",
   "version": "3.6.9"
  }
 },
 "nbformat": 4,
 "nbformat_minor": 5
}
